{
 "cells": [
  {
   "cell_type": "markdown",
   "metadata": {},
   "source": [
    "# <span style=\"color:#4682B4\">NCBI Taxonomy Data Profile</span>\n",
    "---"
   ]
  },
  {
   "cell_type": "markdown",
   "metadata": {},
   "source": [
    "The NCBI Taxonomy is a reference database that contains the names and hierarchically-arranged phylogenetic classifications of organisms created in 1991. The NCBI Taxonomy database is organized in a tree for a hierarchical data structure, where each <span style=\"color:#4682B4\">**_node_**</span> of the tree represents a <span style=\"color:#4682B4\">**_taxon_**</span> and each entry has a primary name, secondary names, and a unique taxonomic identifier. The NCBI Taxonomy database is critical to link nucleotides and protein sequences from the International Nucleotide Sequence Database Collaboration (INSDC) and other biological databases which rely on data from INSDC. These linkages can be made using either the organism name or taxonomic ID.\n",
    "\n",
    "The database is provided remotely by the National Center for Biotechnology Information (NCBI). INSDC partners send any requests for new names to NCBI Taxonomy curators before data is released. The database incorporates phylogenetic and taxonomic knowledge from published literature, web-based databases, and the advice of sequence submitters and outside taxonomy experts."
   ]
  },
  {
   "cell_type": "markdown",
   "metadata": {},
   "source": [
    "### <span style=\"color:#4682B4\">Why NCBI Taxonomy</span>\n",
    "We chose to use the NCBI Taxonomy database because it is the <span style=\"color:#4682B4\">**_sole source for taxonomic classification_**</span> for the INSDC and forms the backbone for many other resources at the NCBI. The NCBI Taxonomy database contains formal and informal organism names and classifications for every sequence in INSDC's datasets (more than 160,000 organisms); these associations between pathogen name and genetic and genomic data are foundational for public health intelligence efforts. The inclusion of informal names also allows us to link pathogens (and their corresponding genetic information) to case reports and other non-traditional data sources which may use names which exist outside of the codes of nomenclature (i.e. \"COVID-19\" instead of SARS-CoV-2). Additionally, more than 150 external partners maintain links to the NCBI Taxonomy database, with specialty datasets of their own."
   ]
  },
  {
   "cell_type": "markdown",
   "metadata": {},
   "source": [
    "### <span style=\"color:#4682B4\">Accessing the NCBI Taxonomy database</span>\n",
    "\n",
    "There are three methods for accessing the NCBI Taxonomy. First is the NCBI Taxonomy Browser, which is a web-page that allows users to search for organisms, visualize the hierarchy at custom levels of classification, and summarize organism information, such as lineage, in a taxon-specific page. \n",
    "\n",
    "In contrast to the Taxonomy Browser, Entrez supports Boolean queries and common search fields across all NCBI databases. There are also several public APIs that allow programmatic access to the Entrez databases; <span style=\"color:#4682B4\">**_we used E-utilities,_**</span> a suite of server-side programs that accept a fixed URL syntax for search, link, and retrieval. \n",
    "\n",
    "A third option is to download the complete database as a full text taxdump file (in .dmp format), which is updated every hour on the site. \n",
    "\n",
    "This notebook examines the information stored within the NCBI Taxonomy and the quality of metadata that is retrievable via publicly available APIs."
   ]
  },
  {
   "cell_type": "markdown",
   "metadata": {},
   "source": [
    "### <span style=\"color:gray\">_Extracting data from NCBI Taxonomy database_</span>\n",
    "\n",
    "There are 39 Entrez databases. To return a list of all Entrez database names and identify the one we want to query, we use the following:\n"
   ]
  },
  {
   "cell_type": "code",
   "execution_count": 57,
   "metadata": {},
   "outputs": [
    {
     "name": "stdout",
     "output_type": "stream",
     "text": [
      "\n",
      "\n",
      "pubmed\n",
      "protein\n",
      "nuccore\n",
      "ipg\n",
      "nucleotide\n",
      "structure\n",
      "genome\n",
      "annotinfo\n",
      "assembly\n",
      "bioproject\n",
      "biosample\n",
      "blastdbinfo\n",
      "books\n",
      "cdd\n",
      "clinvar\n",
      "gap\n",
      "gapplus\n",
      "grasp\n",
      "dbvar\n",
      "gene\n",
      "gds\n",
      "geoprofiles\n",
      "homologene\n",
      "medgen\n",
      "mesh\n",
      "ncbisearch\n",
      "nlmcatalog\n",
      "omim\n",
      "orgtrack\n",
      "pmc\n",
      "popset\n",
      "proteinclusters\n",
      "pcassay\n",
      "protfam\n",
      "pccompound\n",
      "pcsubstance\n",
      "seqannot\n",
      "snp\n",
      "sra\n",
      "taxonomy\n",
      "biocollections\n",
      "gtr\n",
      "\n",
      "\n"
     ]
    }
   ],
   "source": [
    "entrez_url = f\"https://eutils.ncbi.nlm.nih.gov/entrez/eutils/einfo.fcgi\"\n",
    "entrez_response = requests.get(entrez_url)\n",
    "all_db = BeautifulSoup(entrez_response.content, features=\"xml\").getText()\n",
    "print(all_db)"
   ]
  },
  {
   "cell_type": "markdown",
   "metadata": {},
   "source": [
    "To gather statistics about the <span style=\"color:#4682B4\">**_taxonomy_**</span> database"
   ]
  },
  {
   "cell_type": "markdown",
   "metadata": {},
   "source": [
    "we created a Python module <span style=\"color:#4682B4\">**_ncbi._**</span> This module is composed of three main functions demonstrated below, <span style=\"color:#4682B4\">**_api_soup_**</span>, <span style=\"color:#4682B4\">**_id_search_**</span>, and <span style=\"color:#4682B4\">**_get_metadata._**</span>"
   ]
  },
  {
   "cell_type": "code",
   "execution_count": 4,
   "metadata": {},
   "outputs": [
    {
     "name": "stdout",
     "output_type": "stream",
     "text": [
      "Checking python executable path (make sure it's the right virtualenv)\n",
      "/Users/haileyrobertson/Documents/GitHub/kr2-graph/build_graph_2/notebooks/env/bin/python\n"
     ]
    }
   ],
   "source": [
    "import sys\n",
    "\n",
    "print(\"Checking python executable path (make sure it's the right virtualenv)\")\n",
    "print(sys.executable)\n",
    "# append the path of the parent directory\n",
    "sys.path.append(\"..\")"
   ]
  },
  {
   "cell_type": "code",
   "execution_count": 24,
   "metadata": {},
   "outputs": [],
   "source": [
    "# import ncbi\n",
    "from loguru import logger\n",
    "import requests\n",
    "from bs4 import BeautifulSoup\n",
    "from bs4 import Tag"
   ]
  },
  {
   "cell_type": "code",
   "execution_count": 25,
   "metadata": {},
   "outputs": [],
   "source": [
    "# Use E-Utils API to access data in XML format\n",
    "def api_soup(eutil, params):\n",
    "    url = f\"https://eutils.ncbi.nlm.nih.gov/entrez/eutils/{eutil}.fcgi\"\n",
    "    response = requests.get(url, params)\n",
    "    soup = BeautifulSoup(response.content, features=\"xml\")\n",
    "\n",
    "    return soup"
   ]
  },
  {
   "cell_type": "code",
   "execution_count": 26,
   "metadata": {},
   "outputs": [],
   "source": [
    "# Get ID from text name\n",
    "def id_search(name):\n",
    "    logger.info(f\"Searching ncbi for term {name}\")\n",
    "\n",
    "    params = {\"db\": \"Taxonomy\", \"term\": name}\n",
    "\n",
    "    soup = api_soup(\"esearch\", params)\n",
    "\n",
    "    try:\n",
    "        ncbi_id = soup.find(\"Id\").getText()\n",
    "\n",
    "    except AttributeError:\n",
    "        errors = soup.find(\"ErrorList\")\n",
    "        warnings = soup.find(\"WarningList\")\n",
    "\n",
    "        for error in errors.children:\n",
    "            logger.error(f\"{error.name}: {error.getText()}\")\n",
    "\n",
    "        for warning in warnings.children:\n",
    "            logger.warning(f\"{warning.name}: {warning.getText()}\")\n",
    "\n",
    "        return None\n",
    "\n",
    "    return ncbi_id"
   ]
  },
  {
   "cell_type": "code",
   "execution_count": 27,
   "metadata": {},
   "outputs": [],
   "source": [
    "\n",
    "# Get NCBI metadata from ID\n",
    "def get_metadata(ncbi_id):\n",
    "    params = {\"db\": \"Taxonomy\", \"id\": ncbi_id}\n",
    "    soup = api_soup(\"efetch\", params)\n",
    "\n",
    "    taxon = soup.TaxaSet.Taxon\n",
    "\n",
    "    taxon_metadata = {\n",
    "        \"ScientificName\": taxon.ScientificName.getText(),\n",
    "        \"ParentTaxId\": taxon.ParentTaxId.getText(),\n",
    "        \"Rank\": taxon.Rank.getText(),\n",
    "        \"Division\": taxon.Division.getText(),\n",
    "        \"GeneticCode\": {\"GCId\": taxon.GCId.getText(), \"GCName\": taxon.GCName.getText()},\n",
    "        \"MitoGeneticCode\": {\n",
    "            \"MGCId\": taxon.MGCId.getText(),\n",
    "            \"MGCName\": taxon.MGCName.getText(),\n",
    "        },\n",
    "        \"Lineage\": taxon.Lineage.getText(),\n",
    "        \"CreateDate\": taxon.CreateDate.getText(),\n",
    "        \"UpdateDate\": taxon.UpdateDate.getText(),\n",
    "        \"PubDate\": taxon.PubDate.getText(),\n",
    "        # \"LineageEx\":taxon.LineageEx.getText(),\n",
    "    }\n",
    "\n",
    "    if taxon.otherNames:\n",
    "        taxon[\"OtherNames\"] = (taxon.OtherNames.getText(),)\n",
    "\n",
    "    lineage_ex = []\n",
    "    for taxon in taxon.LineageEx.children:\n",
    "        if isinstance(taxon, Tag):\n",
    "            lineage_ex.append(\n",
    "                {\n",
    "                    \"TaxId\": taxon.TaxId.getText(),\n",
    "                    \"ScientificName\": taxon.ScientificName.getText(),\n",
    "                    \"Rank\": taxon.Rank.getText(),\n",
    "                }\n",
    "            )\n",
    "\n",
    "    taxon_metadata[\"LineageEx\"] = lineage_ex\n",
    "\n",
    "    return taxon_metadata\n"
   ]
  },
  {
   "cell_type": "markdown",
   "metadata": {},
   "source": [
    "### <span style=\"color:gray\">_Accessing what is in the NCBI Taxonomy database_</span>\n",
    "\n",
    "The NCBI Taxonomy documentation indicates that the data model is built around a central framework called NameBank, and each entry includes a <span style=\"color:#4682B4\">**_primary name_**</span>, <span style=\"color:#4682B4\">**_secondary names_**</span>, a <span style=\"color:#4682B4\">**_taxonomy identifier_**</span>, <span style=\"color:#4682B4\">**_name entity identifiers_**</span> along with other various metadata about the lineage, genetic code, and linked Entrez records.\n",
    "\n",
    "We first tested our database access using a sample query with the 'esearch' utility for the Entrez NCBI Taxonomy database. \n",
    "\n",
    "<span style=\"color:#4682B4\">**_Input: Entrez text query (&term); Entrez database (&db)_**</span>\n",
    "\n",
    "<span style=\"color:#4682B4\">**_Expected Output: List of UIDs matching the Entrez query_**</span>\n",
    "\n",
    "\n",
    "Example: Get the Taxonomic IDs (TaxID) for 'influenza A subtype h1n1' 'alphainfluenzavirus', and 'orthomyxoviridae:"
   ]
  },
  {
   "cell_type": "code",
   "execution_count": 45,
   "metadata": {},
   "outputs": [
    {
     "name": "stderr",
     "output_type": "stream",
     "text": [
      "2022-05-04 13:41:57.875 | INFO     | __main__:id_search:3 - Searching ncbi for term influenza A subtype h1n1\n",
      "2022-05-04 13:41:58.159 | INFO     | __main__:id_search:3 - Searching ncbi for term alphainfluenzavirus\n",
      "2022-05-04 13:41:58.308 | INFO     | __main__:id_search:3 - Searching ncbi for term orthomyxoviridae\n"
     ]
    },
    {
     "name": "stdout",
     "output_type": "stream",
     "text": [
      "['114727', '197911', '11308']\n"
     ]
    }
   ],
   "source": [
    "term_list = ['influenza A subtype h1n1','alphainfluenzavirus','orthomyxoviridae']\n",
    "id_list = []\n",
    "\n",
    "for each in term_list:\n",
    "    id_list.append(id_search(each))\n",
    "\n",
    "print(id_list)"
   ]
  },
  {
   "cell_type": "markdown",
   "metadata": {},
   "source": [
    "Using this ID, we can then pass it through the 'efetch' utility to get the full records from the NCBI Taxonomy database about alphainfluenzavirus in XML format.\n",
    "\n",
    "<span style=\"color:#4682B4\">**_Input: List of UIDs (&id); Entrez database (&db); Retrieval type (&rettype); Retrieval mode (&retmode)_**</span>\n",
    "\n",
    "<span style=\"color:#4682B4\">**_Expected Output: Formmated data records as specified_**</span>\n"
   ]
  },
  {
   "cell_type": "code",
   "execution_count": 50,
   "metadata": {},
   "outputs": [
    {
     "name": "stdout",
     "output_type": "stream",
     "text": [
      "\n",
      "{'ScientificName': 'H1N1 subtype', 'ParentTaxId': '11320', 'Rank': 'serotype', 'Division': 'Viruses', 'GeneticCode': {'GCId': '1', 'GCName': 'Standard'}, 'MitoGeneticCode': {'MGCId': '0', 'MGCName': 'Unspecified'}, 'Lineage': 'Viruses; Riboviria; Orthornavirae; Negarnaviricota; Polyploviricotina; Insthoviricetes; Articulavirales; Orthomyxoviridae; Alphainfluenzavirus; Influenza A virus', 'CreateDate': '2000/02/07 12:42:00', 'UpdateDate': '2020/04/07 15:24:16', 'PubDate': '2000/02/07 12:42:00', 'LineageEx': [{'TaxId': '10239', 'ScientificName': 'Viruses', 'Rank': 'superkingdom'}, {'TaxId': '2559587', 'ScientificName': 'Riboviria', 'Rank': 'clade'}, {'TaxId': '2732396', 'ScientificName': 'Orthornavirae', 'Rank': 'kingdom'}, {'TaxId': '2497569', 'ScientificName': 'Negarnaviricota', 'Rank': 'phylum'}, {'TaxId': '2497571', 'ScientificName': 'Polyploviricotina', 'Rank': 'subphylum'}, {'TaxId': '2497577', 'ScientificName': 'Insthoviricetes', 'Rank': 'class'}, {'TaxId': '2499411', 'ScientificName': 'Articulavirales', 'Rank': 'order'}, {'TaxId': '11308', 'ScientificName': 'Orthomyxoviridae', 'Rank': 'family'}, {'TaxId': '197911', 'ScientificName': 'Alphainfluenzavirus', 'Rank': 'genus'}, {'TaxId': '11320', 'ScientificName': 'Influenza A virus', 'Rank': 'species'}]}\n",
      "\n",
      "{'ScientificName': 'Alphainfluenzavirus', 'ParentTaxId': '11308', 'Rank': 'genus', 'Division': 'Viruses', 'GeneticCode': {'GCId': '1', 'GCName': 'Standard'}, 'MitoGeneticCode': {'MGCId': '0', 'MGCName': 'Unspecified'}, 'Lineage': 'Viruses; Riboviria; Orthornavirae; Negarnaviricota; Polyploviricotina; Insthoviricetes; Articulavirales; Orthomyxoviridae', 'CreateDate': '2002/05/08 12:00:00', 'UpdateDate': '2020/04/07 15:24:16', 'PubDate': '2002/06/12 19:01:00', 'LineageEx': [{'TaxId': '10239', 'ScientificName': 'Viruses', 'Rank': 'superkingdom'}, {'TaxId': '2559587', 'ScientificName': 'Riboviria', 'Rank': 'clade'}, {'TaxId': '2732396', 'ScientificName': 'Orthornavirae', 'Rank': 'kingdom'}, {'TaxId': '2497569', 'ScientificName': 'Negarnaviricota', 'Rank': 'phylum'}, {'TaxId': '2497571', 'ScientificName': 'Polyploviricotina', 'Rank': 'subphylum'}, {'TaxId': '2497577', 'ScientificName': 'Insthoviricetes', 'Rank': 'class'}, {'TaxId': '2499411', 'ScientificName': 'Articulavirales', 'Rank': 'order'}, {'TaxId': '11308', 'ScientificName': 'Orthomyxoviridae', 'Rank': 'family'}]}\n",
      "\n",
      "{'ScientificName': 'Orthomyxoviridae', 'ParentTaxId': '2499411', 'Rank': 'family', 'Division': 'Viruses', 'GeneticCode': {'GCId': '1', 'GCName': 'Standard'}, 'MitoGeneticCode': {'MGCId': '0', 'MGCName': 'Unspecified'}, 'Lineage': 'Viruses; Riboviria; Orthornavirae; Negarnaviricota; Polyploviricotina; Insthoviricetes; Articulavirales', 'CreateDate': '1995/02/27 09:24:00', 'UpdateDate': '2002/05/08 12:00:00', 'PubDate': '1993/04/23 01:00:00', 'LineageEx': [{'TaxId': '10239', 'ScientificName': 'Viruses', 'Rank': 'superkingdom'}, {'TaxId': '2559587', 'ScientificName': 'Riboviria', 'Rank': 'clade'}, {'TaxId': '2732396', 'ScientificName': 'Orthornavirae', 'Rank': 'kingdom'}, {'TaxId': '2497569', 'ScientificName': 'Negarnaviricota', 'Rank': 'phylum'}, {'TaxId': '2497571', 'ScientificName': 'Polyploviricotina', 'Rank': 'subphylum'}, {'TaxId': '2497577', 'ScientificName': 'Insthoviricetes', 'Rank': 'class'}, {'TaxId': '2499411', 'ScientificName': 'Articulavirales', 'Rank': 'order'}]}\n"
     ]
    }
   ],
   "source": [
    "for each in id_list:\n",
    "    print('\\n' + str(get_metadata(each)))"
   ]
  },
  {
   "cell_type": "markdown",
   "metadata": {},
   "source": [
    "The returned metadata is defined below:\n",
    "\n",
    "| Column name | Content description |\n",
    "| :-- | :-- |\n",
    "| `ScientificName` | scientific name of the taxon, validly published with respect to the relevant code of nomenclature |\n",
    "| `ParentTaxId` | name of the node (category or folder) used within the EIOS User Portal for category navigation |\n",
    "| `Rank` | Linnaean rank assigned to the taxon, where possible |\n",
    "| `Division` | leaf node flag (leaf nodes are categories, non-leaf are folders) |\n",
    "| `GeneticCode` | unique identifier of the EIOS user community that specified the folder nodes (foreign key) |\n",
    "| `MitoGeneticCode` | inactive category flag |\n",
    "| `Lineage` | inactive category flag |\n",
    "| `LineageEx` | inactive category flag |\n"
   ]
  },
  {
   "cell_type": "code",
   "execution_count": null,
   "metadata": {},
   "outputs": [],
   "source": [
    "    taxon_metadata = {\n",
    "        \"ScientificName\": taxon.ScientificName.getText(),\n",
    "        \"ParentTaxId\": taxon.ParentTaxId.getText(),\n",
    "        \"Rank\": taxon.Rank.getText(),\n",
    "        \"Division\": taxon.Division.getText(),\n",
    "        \"GeneticCode\": {\"GCId\": taxon.GCId.getText(), \"GCName\": taxon.GCName.getText()},\n",
    "        \"MitoGeneticCode\": {\n",
    "            \"MGCId\": taxon.MGCId.getText(),\n",
    "            \"MGCName\": taxon.MGCName.getText(),\n",
    "        },\n",
    "        \"Lineage\": taxon.Lineage.getText(),\n",
    "        \"CreateDate\": taxon.CreateDate.getText(),\n",
    "        \"UpdateDate\": taxon.UpdateDate.getText(),\n",
    "        \"PubDate\": taxon.PubDate.getText(),\n",
    "        # \"LineageEx\":taxon.LineageEx.getText(),\n",
    "    }"
   ]
  },
  {
   "cell_type": "code",
   "execution_count": null,
   "metadata": {},
   "outputs": [],
   "source": []
  }
 ],
 "metadata": {
  "interpreter": {
   "hash": "d7315c49e695b70a80fa10d86a25c9d146976f258accde30ac4a8950a94324f1"
  },
  "kernelspec": {
   "display_name": "Python 3.9.12 ('env': venv)",
   "language": "python",
   "name": "python3"
  },
  "language_info": {
   "codemirror_mode": {
    "name": "ipython",
    "version": 3
   },
   "file_extension": ".py",
   "mimetype": "text/x-python",
   "name": "python",
   "nbconvert_exporter": "python",
   "pygments_lexer": "ipython3",
   "version": "3.9.0"
  },
  "orig_nbformat": 4
 },
 "nbformat": 4,
 "nbformat_minor": 2
}
