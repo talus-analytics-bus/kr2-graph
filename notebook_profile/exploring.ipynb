{
 "cells": [
  {
   "cell_type": "code",
   "execution_count": 2,
   "metadata": {},
   "outputs": [
    {
     "name": "stdout",
     "output_type": "stream",
     "text": [
      "/home/ubuntu/code/kr2-graph/notebook_profile/env/bin/python\n"
     ]
    }
   ],
   "source": [
    "# Check that we're using the \n",
    "# right python from the venv\n",
    "import sys\n",
    "print(sys.executable)"
   ]
  },
  {
   "cell_type": "code",
   "execution_count": 3,
   "metadata": {},
   "outputs": [],
   "source": [
    "import os\n",
    "from dotenv import load_dotenv\n",
    "\n",
    "# neo4j is the official python driver\n",
    "from neo4j import GraphDatabase\n",
    "\n",
    "# py2neo is a community driver which is supposed \n",
    "# to have nice features for notebooks\n",
    "from py2neo import Graph\n",
    "\n",
    "# pull env vars for auth \n",
    "load_dotenv()\n",
    "\n",
    "NEO4J_AUTH = (os.getenv(\"NEO4J_USER\"), os.getenv(\"NEO4J_PASS\"))\n",
    "NEO4J_URI = os.getenv(\"NEO4J_URI\")\n",
    "\n",
    "# Official driver\n",
    "NEO4J_DRIVER = GraphDatabase.driver(NEO4J_URI, auth=NEO4J_AUTH)\n",
    "SESSION = NEO4J_DRIVER.session()\n",
    "\n",
    "# Community driver\n",
    "GRAPH = Graph(NEO4J_URI, auth=NEO4J_AUTH)\n"
   ]
  },
  {
   "cell_type": "markdown",
   "metadata": {},
   "source": [
    "# Testing database connection\n",
    "\n",
    "Just grabbing the WHO Regions, since it's an extremely small query which will return a limited set of nodes"
   ]
  },
  {
   "cell_type": "code",
   "execution_count": 4,
   "metadata": {},
   "outputs": [
    {
     "name": "stdout",
     "output_type": "stream",
     "text": [
      " n                                                           \n",
      "-------------------------------------------------------------\n",
      " (_435:Region {name: 'Region of the Americas (PAHO)'})       \n",
      " (_436:Region {name: 'Eastern Mediterranean Region (EMRO)'}) \n",
      " (_437:Region {name: 'Western Pacific Region (WPRO)'})       \n",
      "\n"
     ]
    }
   ],
   "source": [
    "subgraph = GRAPH.run('MATCH (n:Region) return n')\n",
    "print(subgraph)"
   ]
  },
  {
   "cell_type": "markdown",
   "metadata": {},
   "source": [
    "Running the same query with the official Neo4j python driver:"
   ]
  },
  {
   "cell_type": "code",
   "execution_count": 5,
   "metadata": {},
   "outputs": [
    {
     "name": "stdout",
     "output_type": "stream",
     "text": [
      "{'n': {'name': 'Region of the Americas (PAHO)'}}\n",
      "{'n': {'name': 'Eastern Mediterranean Region (EMRO)'}}\n",
      "{'n': {'name': 'Western Pacific Region (WPRO)'}}\n",
      "{'n': {'name': 'European Region (EURO)'}}\n",
      "{'n': {'name': 'African Region (AFRO)'}}\n",
      "{'n': {'name': 'South-East Asia Region (SEARO)'}}\n"
     ]
    }
   ],
   "source": [
    "subgraph = SESSION.run('MATCH (n:Region) RETURN n')\n",
    "for node in iter(subgraph):\n",
    "  print(node.data())"
   ]
  },
  {
   "cell_type": "markdown",
   "metadata": {},
   "source": [
    "The Official driver certainly does better here; instead of summarizing the output too much it gives us the disconnected sub-graphs of all Regions. This is as expected because each Region node shouldn't be connected to the others. \n",
    "\n",
    "# Simple Taxonomic Paths\n",
    "\n",
    "## Stepping through one edge\n",
    "\n",
    "Super simple query: find the H1N1 Serotype, and find the label and name of its parent.\n",
    "\n",
    "Here we're using the starting node, edge direction, and edge label (CONTAINS) so we should be able to access the direct parent node, according to the taxonomy, without specifying anything about it."
   ]
  },
  {
   "cell_type": "code",
   "execution_count": 6,
   "metadata": {},
   "outputs": [
    {
     "name": "stdout",
     "output_type": "stream",
     "text": [
      "('H1N1', <Node id=3574 labels=frozenset({'Serotype'}) properties={'name': 'H10N1 subtype'}>) \n",
      "\n",
      "('parent', <Node id=3573 labels=frozenset({'Species'}) properties={'name': 'Influenza A virus'}>) \n",
      "\n"
     ]
    }
   ],
   "source": [
    "subgraph = SESSION.run('MATCH (H1N1:Serotype {name:\"H10N1 subtype\"})<-[:CONTAINS]-(parent) return H1N1, parent')\n",
    "\n",
    "for node in subgraph.single().items():\n",
    "  print(node, '\\n')"
   ]
  },
  {
   "cell_type": "code",
   "execution_count": 7,
   "metadata": {},
   "outputs": [
    {
     "name": "stdout",
     "output_type": "stream",
     "text": [
      " H1N1                                     | parent                                      \n",
      "------------------------------------------|---------------------------------------------\n",
      " (_3574:Serotype {name: 'H10N1 subtype'}) | (_3573:Species {name: 'Influenza A virus'}) \n",
      "\n"
     ]
    }
   ],
   "source": [
    "subgraph = GRAPH.run('MATCH (H1N1:Serotype {name:\"H10N1 subtype\"})<-[:CONTAINS]-(parent) return H1N1, parent')\n",
    "print(subgraph)"
   ]
  },
  {
   "cell_type": "markdown",
   "metadata": {},
   "source": [
    "Again, the community driver has an easier output to look at in the notebook but the official driver offers better clarity into exactly what kind of response we're getting. \n",
    "\n",
    "Specifically, we see that this query is returning the two nodes we expect, and that the parent is a node of \"Species\" type named \"Influenza A virus,\" which is as expected.\n",
    "\n",
    "## Path analysis along taxonomy\n",
    "\n",
    "This query uses a shortest path analysis to try to identify the family which contains H1N1. The query specifies only the start point (H1N1), the ending node type \":Family,\" and the edge direction, because following edges backwards from any serotype to a \":Family\" node should return exactly one parent, the family which contains that serotype, without needing to know anything about the edge labels or node labels in between."
   ]
  },
  {
   "cell_type": "code",
   "execution_count": 8,
   "metadata": {},
   "outputs": [
    {
     "name": "stdout",
     "output_type": "stream",
     "text": [
      "Path summary: \n",
      "<Path start=<Node id=3574 labels=frozenset({'Serotype'}) properties={'name': 'H10N1 subtype'}> end=<Node id=3571 labels=frozenset({'Family'}) properties={'name': 'Orthomyxoviridae'}> size=3> \n",
      "\n",
      "Path length: 3\n",
      "\n",
      "Path Relationships (like triples):\n",
      "<Relationship id=4068 nodes=(<Node id=3573 labels=frozenset({'Species'}) properties={'name': 'Influenza A virus'}>, <Node id=3574 labels=frozenset({'Serotype'}) properties={'name': 'H10N1 subtype'}>) type='CONTAINS' properties={}> \n",
      "\n",
      "<Relationship id=4066 nodes=(<Node id=3572 labels=frozenset({'Genus'}) properties={'name': 'Alphainfluenzavirus'}>, <Node id=3573 labels=frozenset({'Species'}) properties={'name': 'Influenza A virus'}>) type='CONTAINS' properties={}> \n",
      "\n",
      "<Relationship id=4065 nodes=(<Node id=3571 labels=frozenset({'Family'}) properties={'name': 'Orthomyxoviridae'}>, <Node id=3572 labels=frozenset({'Genus'}) properties={'name': 'Alphainfluenzavirus'}>) type='CONTAINS' properties={}> \n",
      "\n",
      "Family name: Orthomyxoviridae \n"
     ]
    }
   ],
   "source": [
    "subgraph = SESSION.run(\n",
    "  'MATCH (H1N1:Serotype {name:\"H10N1 subtype\"}), '\n",
    "  'path = ((H1N1)<-[*]-(:Family)) '\n",
    "  'RETURN path'\n",
    ")\n",
    "\n",
    "result = subgraph.single()\n",
    "\n",
    "# get path from query result\n",
    "path = result['path']\n",
    "\n",
    "print('Path summary: ')\n",
    "print(path, '\\n')\n",
    "\n",
    "print(f'Path length: {len(path)}\\n')\n",
    "\n",
    "print('Path Relationships (like triples):')\n",
    "for step in iter(path):\n",
    "  print(step, '\\n')\n",
    "\n",
    "print(f'Family name: {path.end_node[\"name\"]} ')\n",
    "\n"
   ]
  },
  {
   "cell_type": "markdown",
   "metadata": {},
   "source": [
    "This result shows us that the relationships are correct and are as expected. The query returned a three-step path to the family \"Orthomyxoviridae,\" which can be represented as relationship triples as shown above. \n",
    "\n",
    "We can also run this query through the community driver, which returns a Cypher representation of the path:"
   ]
  },
  {
   "cell_type": "code",
   "execution_count": 9,
   "metadata": {},
   "outputs": [
    {
     "name": "stdout",
     "output_type": "stream",
     "text": [
      " path                                                                                                                         \n",
      "------------------------------------------------------------------------------------------------------------------------------\n",
      " (H10N1 subtype)<-[:CONTAINS {}]-(Influenza A virus)<-[:CONTAINS {}]-(Alphainfluenzavirus)<-[:CONTAINS {}]-(Orthomyxoviridae) \n",
      "\n"
     ]
    }
   ],
   "source": [
    "subgraph = GRAPH.run(\n",
    "  'MATCH (H1N1:Serotype {name:\"H10N1 subtype\"}), '\n",
    "  'path = ((H1N1)<-[*]-(:Family)) '\n",
    "  'RETURN path'\n",
    ")\n",
    "\n",
    "print(subgraph)"
   ]
  },
  {
   "cell_type": "markdown",
   "metadata": {},
   "source": [
    "# Diseases in the database\n",
    "\n",
    "In prior work on this project, a set of diseases had been identified by Talus for prototyping; these have been ingested into the graph database. \n",
    "\n",
    "In addition, a few syndromic categories were prototyped, which were also ingested and linked. \n",
    "\n",
    "These are developed for the purposes of analyzing the approach overall, and are not intended to represent the full set of diseases and categories used in the proof of concept deliverable.\n",
    "\n",
    "## Diseases\n",
    "\n"
   ]
  },
  {
   "cell_type": "code",
   "execution_count": 10,
   "metadata": {},
   "outputs": [
    {
     "name": "stdout",
     "output_type": "stream",
     "text": [
      "{'n': {'name': 'Enterovirus'}}\n",
      "{'n': {'name': 'Gnathostoma'}}\n",
      "{'n': {'name': 'Rickettsia'}}\n",
      "{'n': {'name': 'Gnathostomiasis'}}\n",
      "{'n': {'name': 'Carbapenem-resistant enterobacteriaceae (CRE)'}}\n",
      "{'n': {'name': 'Respiratory Illness'}}\n",
      "{'n': {'name': 'Vibrio, noncholera'}}\n",
      "{'n': {'name': 'Scrub Typhus'}}\n",
      "{'n': {'name': 'Nipah/Hendra Virus'}}\n",
      "{'n': {'name': 'Enterobacter cloacae'}}\n"
     ]
    }
   ],
   "source": [
    "subgraph = SESSION.run('MATCH (n:Disease) RETURN n LIMIT 10')\n",
    "for node in iter(subgraph):\n",
    "  print(node.data())"
   ]
  },
  {
   "cell_type": "markdown",
   "metadata": {},
   "source": [
    "## Syndromic Categories"
   ]
  },
  {
   "cell_type": "code",
   "execution_count": 11,
   "metadata": {},
   "outputs": [
    {
     "name": "stdout",
     "output_type": "stream",
     "text": [
      "{'n': {'name': 'Hospital Acquired Infections'}}\n",
      "{'n': {'name': 'Hemorrhagic'}}\n",
      "{'n': {'name': 'Gastrointestinal'}}\n",
      "{'n': {'name': 'Vectorborne'}}\n",
      "{'n': {'name': 'Fever/Febrile'}}\n",
      "{'n': {'name': 'Respiratory'}}\n"
     ]
    }
   ],
   "source": [
    "subgraph = SESSION.run('MATCH (n:SyndromicCategory) RETURN n LIMIT 10')\n",
    "for node in iter(subgraph):\n",
    "  print(node.data())"
   ]
  },
  {
   "cell_type": "markdown",
   "metadata": {},
   "source": [
    "## Syndromic Relationships\n",
    "\n",
    "A query for a specific disease, searching all \"CONTAINS\" edges bidirectionally to find other Disease nodes, should use the syndromic category to determine syndromically related diseases: "
   ]
  },
  {
   "cell_type": "code",
   "execution_count": 12,
   "metadata": {},
   "outputs": [
    {
     "name": "stdout",
     "output_type": "stream",
     "text": [
      "{'related': {'name': 'Relapsing Fever'}}\n",
      "{'related': {'name': 'Fever'}}\n",
      "{'related': {'name': 'Toxoplasmosis'}}\n",
      "{'related': {'name': 'Toxocariasis'}}\n",
      "{'related': {'name': 'Strep'}}\n",
      "{'related': {'name': 'Scarlet Fever'}}\n",
      "{'related': {'name': 'Typhoid'}}\n",
      "{'related': {'name': 'Typhus'}}\n",
      "{'related': {'name': 'Q Fever'}}\n",
      "{'related': {'name': 'Parotitis'}}\n",
      "{'related': {'name': 'Otitis media'}}\n",
      "{'related': {'name': 'Mumps'}}\n",
      "{'related': {'name': 'Mononucleosis'}}\n",
      "{'related': {'name': 'Leptospirosis'}}\n",
      "{'related': {'name': 'Cytomegalovirus'}}\n",
      "{'related': {'name': 'Cat Scratch Fever'}}\n"
     ]
    }
   ],
   "source": [
    "subgraph = SESSION.run(\n",
    "  'MATCH (n:Disease {name: \"Enterovirus\"}), '\n",
    "  '(n)-[:CONTAINS*1..2]-(related:Disease) '\n",
    "  ' RETURN related'\n",
    ")\n",
    "\n",
    "for node in iter(subgraph):\n",
    "  print(node.data())"
   ]
  },
  {
   "cell_type": "markdown",
   "metadata": {},
   "source": [
    "## Symptoms and symptom relationships\n",
    "\n",
    "For a few of the diseases, a sets of symptoms with mock frequencies were produced, to populate that node category and relationship type: "
   ]
  },
  {
   "cell_type": "code",
   "execution_count": 13,
   "metadata": {},
   "outputs": [
    {
     "name": "stdout",
     "output_type": "stream",
     "text": [
      "\n",
      "Symptom Path: \n",
      "<Node id=22 labels=frozenset({'Disease'}) properties={'name': 'Ebola'}> \n",
      "\n",
      "<Relationship id=180 nodes=(<Node id=53 labels=frozenset() properties={}>, <Node id=160 labels=frozenset({'Symptom'}) properties={'name': 'Sneezing'}>) type='CAUSES' properties={'frequency': '3.0'}> \n",
      "\n",
      "<Node id=160 labels=frozenset({'Symptom'}) properties={'name': 'Sneezing'}> \n",
      "\n",
      "\n",
      "Symptom Path: \n",
      "<Node id=22 labels=frozenset({'Disease'}) properties={'name': 'Ebola'}> \n",
      "\n",
      "<Relationship id=188 nodes=(<Node id=22 labels=frozenset({'Disease'}) properties={'name': 'Ebola'}>, <Node id=161 labels=frozenset({'Symptom'}) properties={'name': 'Sore throat'}>) type='CAUSES' properties={'frequency': '2.0'}> \n",
      "\n",
      "<Node id=161 labels=frozenset({'Symptom'}) properties={'name': 'Sore throat'}> \n",
      "\n"
     ]
    }
   ],
   "source": [
    "subgraph = SESSION.run(\n",
    "  'MATCH (d:Disease {name: \"Ebola\"}), '\n",
    "  '(n)-[r:CAUSES]->(s:Symptom) '\n",
    "  ' RETURN d,r,s LIMIT 2'\n",
    ")\n",
    "\n",
    "for path in iter(subgraph):\n",
    "  print('\\nSymptom Path: ')\n",
    "  for step in iter(path):\n",
    "    print(step, '\\n')"
   ]
  },
  {
   "cell_type": "markdown",
   "metadata": {},
   "source": [
    "The inclusion of frequency as a property on the edge shows how the LPG can represent rich information more intuitively than a plain triplestore."
   ]
  },
  {
   "cell_type": "markdown",
   "metadata": {},
   "source": [
    "# Exploring outbreak reports in the knowledge graph\n",
    "\n",
    "The Georgetown Center for Global Health Science and Security publishes a [database of coded WHO Disease Outbreak Reports](https://github.com/cghss/dons), which has been ingested to this prorotype graph database. \n",
    "\n",
    "First a matching table was created (by hand, for the sake of prototyping) which identified 38 cases where the DiseaseLevel1 field in the DONs record row could map correctly and directly to an existing disease within the database. "
   ]
  },
  {
   "cell_type": "code",
   "execution_count": 14,
   "metadata": {},
   "outputs": [
    {
     "name": "stdout",
     "output_type": "stream",
     "text": [
      "<Record o=<Relationship id=2794 nodes=(<Node id=2505 labels=frozenset() properties={}>, <Node id=329 labels=frozenset() properties={}>) type='OUTBREAK' properties={'CasesTotal': 'NA', 'CasesConfirmed': 'NA', 'Deaths': 'NA', 'OutbreakEpicenter': 'Sibiribougou', 'Notes': 'NA '}>> \n",
      "\n",
      "<Record o=<Relationship id=2793 nodes=(<Node id=2505 labels=frozenset() properties={}>, <Node id=383 labels=frozenset() properties={}>) type='OUTBREAK' properties={'CasesTotal': 'NA', 'CasesConfirmed': 'NA', 'Deaths': 'NA', 'OutbreakEpicenter': 'NA', 'Notes': 'NA '}>> \n",
      "\n",
      "<Record o=<Relationship id=2792 nodes=(<Node id=2505 labels=frozenset() properties={}>, <Node id=310 labels=frozenset() properties={}>) type='OUTBREAK' properties={'CasesTotal': 'NA', 'CasesConfirmed': '2', 'Deaths': '7', 'OutbreakEpicenter': 'Lofa County', 'Notes': 'NA '}>> \n",
      "\n",
      "<Record o=<Relationship id=2791 nodes=(<Node id=2505 labels=frozenset() properties={}>, <Node id=266 labels=frozenset() properties={}>) type='OUTBREAK' properties={'CasesTotal': '143', 'CasesConfirmed': '54', 'Deaths': '86', 'OutbreakEpicenter': 'Conakry, Gueckedou, Macenta', 'Notes': 'NA '}>> \n",
      "\n",
      "<Record o=<Relationship id=3659 nodes=(<Node id=3217 labels=frozenset() properties={}>, <Node id=228 labels=frozenset() properties={}>) type='OUTBREAK' properties={'CasesTotal': '3304', 'CasesConfirmed': '3186', 'Deaths': '2199', 'OutbreakEpicenter': 'Mabalako, Mandima, Oicha, Beni', 'Notes': 'NA '}>> \n",
      "\n"
     ]
    }
   ],
   "source": [
    "subgraph = SESSION.run(\n",
    "  'MATCH (d:Disease {name: \"Ebola\"}), '\n",
    "  '(d)<-[:MENTIONS]-(don:DON), '\n",
    "  '(don)-[o:OUTBREAK]->(:Country) '\n",
    "  'RETURN o LIMIT 5'\n",
    ")\n",
    "\n",
    "for node in iter(subgraph):\n",
    "  print(node, '\\n')"
   ]
  },
  {
   "cell_type": "markdown",
   "metadata": {},
   "source": [
    "However, through this analysis, we realized that many DONs report records, specifically those related to influenza, actually specify viral agents instead of diseases. However, the graph ontology can handle this, so these records were merged with that ontology and therefore can by queried just by loosening the path constraint:"
   ]
  },
  {
   "cell_type": "code",
   "execution_count": 15,
   "metadata": {},
   "outputs": [
    {
     "name": "stdout",
     "output_type": "stream",
     "text": [
      "<Record o=<Relationship id=2794 nodes=(<Node id=2505 labels=frozenset() properties={}>, <Node id=329 labels=frozenset() properties={}>) type='OUTBREAK' properties={'CasesTotal': 'NA', 'CasesConfirmed': 'NA', 'Deaths': 'NA', 'OutbreakEpicenter': 'Sibiribougou', 'Notes': 'NA '}>> \n",
      "\n",
      "<Record o=<Relationship id=2793 nodes=(<Node id=2505 labels=frozenset() properties={}>, <Node id=383 labels=frozenset() properties={}>) type='OUTBREAK' properties={'CasesTotal': 'NA', 'CasesConfirmed': 'NA', 'Deaths': 'NA', 'OutbreakEpicenter': 'NA', 'Notes': 'NA '}>> \n",
      "\n",
      "<Record o=<Relationship id=2792 nodes=(<Node id=2505 labels=frozenset() properties={}>, <Node id=310 labels=frozenset() properties={}>) type='OUTBREAK' properties={'CasesTotal': 'NA', 'CasesConfirmed': '2', 'Deaths': '7', 'OutbreakEpicenter': 'Lofa County', 'Notes': 'NA '}>> \n",
      "\n",
      "<Record o=<Relationship id=2791 nodes=(<Node id=2505 labels=frozenset() properties={}>, <Node id=266 labels=frozenset() properties={}>) type='OUTBREAK' properties={'CasesTotal': '143', 'CasesConfirmed': '54', 'Deaths': '86', 'OutbreakEpicenter': 'Conakry, Gueckedou, Macenta', 'Notes': 'NA '}>> \n",
      "\n",
      "<Record o=<Relationship id=3659 nodes=(<Node id=3217 labels=frozenset() properties={}>, <Node id=228 labels=frozenset() properties={}>) type='OUTBREAK' properties={'CasesTotal': '3304', 'CasesConfirmed': '3186', 'Deaths': '2199', 'OutbreakEpicenter': 'Mabalako, Mandima, Oicha, Beni', 'Notes': 'NA '}>> \n",
      "\n"
     ]
    }
   ],
   "source": [
    "subgraph = SESSION.run(\n",
    "  'MATCH (d:Disease {name: \"Influenza\"}), '\n",
    "  '(d)-[*1..5]-(don:DON), '\n",
    "  '(don)-[o:OUTBREAK]->(:Country) '\n",
    "  'RETURN o LIMIT 5'\n",
    ")\n",
    "\n",
    "for node in iter(subgraph):\n",
    "  print(node, '\\n')"
   ]
  },
  {
   "cell_type": "code",
   "execution_count": null,
   "metadata": {},
   "outputs": [],
   "source": []
  },
  {
   "cell_type": "code",
   "execution_count": null,
   "metadata": {},
   "outputs": [],
   "source": []
  },
  {
   "cell_type": "code",
   "execution_count": null,
   "metadata": {},
   "outputs": [],
   "source": []
  }
 ],
 "metadata": {
  "interpreter": {
   "hash": "1880e3c6844ecdc8d66c787001b5c6658ce77ab5d28a9d3541487f4adf09f3c1"
  },
  "kernelspec": {
   "display_name": "Python 3.9.12 ('env': venv)",
   "language": "python",
   "name": "python3"
  },
  "language_info": {
   "codemirror_mode": {
    "name": "ipython",
    "version": 3
   },
   "file_extension": ".py",
   "mimetype": "text/x-python",
   "name": "python",
   "nbconvert_exporter": "python",
   "pygments_lexer": "ipython3",
   "version": "3.9.12"
  },
  "orig_nbformat": 4
 },
 "nbformat": 4,
 "nbformat_minor": 2
}
